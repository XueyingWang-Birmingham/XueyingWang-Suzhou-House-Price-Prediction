{
 "cells": [
  {
   "cell_type": "code",
   "execution_count": 1,
   "id": "e71b5ffb-d567-4289-b336-ccd80be07b1c",
   "metadata": {},
   "outputs": [],
   "source": [
    "from sklearn.model_selection import train_test_split\n",
    "from sklearn.preprocessing import StandardScaler\n",
    "from sklearn.metrics import r2_score, mean_squared_error, mean_absolute_error\n",
    "import numpy as np\n",
    "import pandas as pd"
   ]
  },
  {
   "cell_type": "code",
   "execution_count": 2,
   "id": "63237292-5e8d-4f6a-8fbb-f1d0971ba0e2",
   "metadata": {},
   "outputs": [],
   "source": [
    "Dataset = pd.read_csv (r'C:\\\\Users\\\\56395\\\\Desktop\\\\Dataset.csv', encoding= 'unicode_escape')\n",
    "X = Dataset.iloc[:, :-1].values\n",
    "#print(X)"
   ]
  },
  {
   "cell_type": "code",
   "execution_count": 3,
   "id": "5bd21d2d-3125-4dd4-9238-2fe548792fd3",
   "metadata": {},
   "outputs": [],
   "source": [
    "Y = Dataset.iloc[:,14].values\n",
    "y = Y[:, None] \n",
    "#print(y)"
   ]
  },
  {
   "cell_type": "code",
   "execution_count": 4,
   "id": "3ee26e23-80ba-451a-a747-78a73f5bd8c8",
   "metadata": {},
   "outputs": [],
   "source": [
    "X_train, X_test, y_train, y_test = train_test_split(X, y, test_size=0.3, random_state=3)"
   ]
  },
  {
   "cell_type": "code",
   "execution_count": 5,
   "id": "d1493047-ce3c-4d8b-a259-c7a21c89b49b",
   "metadata": {},
   "outputs": [],
   "source": [
    "ss_X = StandardScaler()\n",
    "\n",
    "X_train = ss_X.fit_transform(X_train)\n",
    "X_test = ss_X.transform(X_test)\n",
    "\n",
    "ss_y = StandardScaler()\n",
    "y_train = ss_y.fit_transform(y_train)\n",
    "y_test = ss_y.transform(y_test)\n",
    "\n",
    "ss_Y = StandardScaler()\n",
    "y_total = ss_Y.fit_transform(y)\n",
    "x_total = ss_X.fit_transform(X)"
   ]
  },
  {
   "cell_type": "code",
   "execution_count": 6,
   "id": "a3293f70-56a5-4ee8-9165-97f12cc61583",
   "metadata": {},
   "outputs": [
    {
     "data": {
      "text/html": [
       "<style>#sk-container-id-1 {color: black;background-color: white;}#sk-container-id-1 pre{padding: 0;}#sk-container-id-1 div.sk-toggleable {background-color: white;}#sk-container-id-1 label.sk-toggleable__label {cursor: pointer;display: block;width: 100%;margin-bottom: 0;padding: 0.3em;box-sizing: border-box;text-align: center;}#sk-container-id-1 label.sk-toggleable__label-arrow:before {content: \"▸\";float: left;margin-right: 0.25em;color: #696969;}#sk-container-id-1 label.sk-toggleable__label-arrow:hover:before {color: black;}#sk-container-id-1 div.sk-estimator:hover label.sk-toggleable__label-arrow:before {color: black;}#sk-container-id-1 div.sk-toggleable__content {max-height: 0;max-width: 0;overflow: hidden;text-align: left;background-color: #f0f8ff;}#sk-container-id-1 div.sk-toggleable__content pre {margin: 0.2em;color: black;border-radius: 0.25em;background-color: #f0f8ff;}#sk-container-id-1 input.sk-toggleable__control:checked~div.sk-toggleable__content {max-height: 200px;max-width: 100%;overflow: auto;}#sk-container-id-1 input.sk-toggleable__control:checked~label.sk-toggleable__label-arrow:before {content: \"▾\";}#sk-container-id-1 div.sk-estimator input.sk-toggleable__control:checked~label.sk-toggleable__label {background-color: #d4ebff;}#sk-container-id-1 div.sk-label input.sk-toggleable__control:checked~label.sk-toggleable__label {background-color: #d4ebff;}#sk-container-id-1 input.sk-hidden--visually {border: 0;clip: rect(1px 1px 1px 1px);clip: rect(1px, 1px, 1px, 1px);height: 1px;margin: -1px;overflow: hidden;padding: 0;position: absolute;width: 1px;}#sk-container-id-1 div.sk-estimator {font-family: monospace;background-color: #f0f8ff;border: 1px dotted black;border-radius: 0.25em;box-sizing: border-box;margin-bottom: 0.5em;}#sk-container-id-1 div.sk-estimator:hover {background-color: #d4ebff;}#sk-container-id-1 div.sk-parallel-item::after {content: \"\";width: 100%;border-bottom: 1px solid gray;flex-grow: 1;}#sk-container-id-1 div.sk-label:hover label.sk-toggleable__label {background-color: #d4ebff;}#sk-container-id-1 div.sk-serial::before {content: \"\";position: absolute;border-left: 1px solid gray;box-sizing: border-box;top: 0;bottom: 0;left: 50%;z-index: 0;}#sk-container-id-1 div.sk-serial {display: flex;flex-direction: column;align-items: center;background-color: white;padding-right: 0.2em;padding-left: 0.2em;position: relative;}#sk-container-id-1 div.sk-item {position: relative;z-index: 1;}#sk-container-id-1 div.sk-parallel {display: flex;align-items: stretch;justify-content: center;background-color: white;position: relative;}#sk-container-id-1 div.sk-item::before, #sk-container-id-1 div.sk-parallel-item::before {content: \"\";position: absolute;border-left: 1px solid gray;box-sizing: border-box;top: 0;bottom: 0;left: 50%;z-index: -1;}#sk-container-id-1 div.sk-parallel-item {display: flex;flex-direction: column;z-index: 1;position: relative;background-color: white;}#sk-container-id-1 div.sk-parallel-item:first-child::after {align-self: flex-end;width: 50%;}#sk-container-id-1 div.sk-parallel-item:last-child::after {align-self: flex-start;width: 50%;}#sk-container-id-1 div.sk-parallel-item:only-child::after {width: 0;}#sk-container-id-1 div.sk-dashed-wrapped {border: 1px dashed gray;margin: 0 0.4em 0.5em 0.4em;box-sizing: border-box;padding-bottom: 0.4em;background-color: white;}#sk-container-id-1 div.sk-label label {font-family: monospace;font-weight: bold;display: inline-block;line-height: 1.2em;}#sk-container-id-1 div.sk-label-container {text-align: center;}#sk-container-id-1 div.sk-container {/* jupyter's `normalize.less` sets `[hidden] { display: none; }` but bootstrap.min.css set `[hidden] { display: none !important; }` so we also need the `!important` here to be able to override the default hidden behavior on the sphinx rendered scikit-learn.org. See: https://github.com/scikit-learn/scikit-learn/issues/21755 */display: inline-block !important;position: relative;}#sk-container-id-1 div.sk-text-repr-fallback {display: none;}</style><div id=\"sk-container-id-1\" class=\"sk-top-container\"><div class=\"sk-text-repr-fallback\"><pre>XGBRegressor(base_score=None, booster=&#x27;gbtree&#x27;, callbacks=None,\n",
       "             colsample_bylevel=None, colsample_bynode=None, colsample_bytree=1,\n",
       "             device=None, early_stopping_rounds=None, enable_categorical=False,\n",
       "             eval_metric=&#x27;rmse&#x27;, feature_types=None, gamma=0.001,\n",
       "             grow_policy=None, importance_type=None,\n",
       "             interaction_constraints=None, learning_rate=0.13, max_bin=None,\n",
       "             max_cat_threshold=None, max_cat_to_onehot=None,\n",
       "             max_delta_step=None, max_depth=4, max_leaves=200,\n",
       "             min_child_weight=3, missing=nan, monotone_constraints=None,\n",
       "             multi_strategy=None, n_estimators=2000, n_jobs=None, nthread=2,\n",
       "             num_parallel_tree=None, ...)</pre><b>In a Jupyter environment, please rerun this cell to show the HTML representation or trust the notebook. <br />On GitHub, the HTML representation is unable to render, please try loading this page with nbviewer.org.</b></div><div class=\"sk-container\" hidden><div class=\"sk-item\"><div class=\"sk-estimator sk-toggleable\"><input class=\"sk-toggleable__control sk-hidden--visually\" id=\"sk-estimator-id-1\" type=\"checkbox\" checked><label for=\"sk-estimator-id-1\" class=\"sk-toggleable__label sk-toggleable__label-arrow\">XGBRegressor</label><div class=\"sk-toggleable__content\"><pre>XGBRegressor(base_score=None, booster=&#x27;gbtree&#x27;, callbacks=None,\n",
       "             colsample_bylevel=None, colsample_bynode=None, colsample_bytree=1,\n",
       "             device=None, early_stopping_rounds=None, enable_categorical=False,\n",
       "             eval_metric=&#x27;rmse&#x27;, feature_types=None, gamma=0.001,\n",
       "             grow_policy=None, importance_type=None,\n",
       "             interaction_constraints=None, learning_rate=0.13, max_bin=None,\n",
       "             max_cat_threshold=None, max_cat_to_onehot=None,\n",
       "             max_delta_step=None, max_depth=4, max_leaves=200,\n",
       "             min_child_weight=3, missing=nan, monotone_constraints=None,\n",
       "             multi_strategy=None, n_estimators=2000, n_jobs=None, nthread=2,\n",
       "             num_parallel_tree=None, ...)</pre></div></div></div></div></div>"
      ],
      "text/plain": [
       "XGBRegressor(base_score=None, booster='gbtree', callbacks=None,\n",
       "             colsample_bylevel=None, colsample_bynode=None, colsample_bytree=1,\n",
       "             device=None, early_stopping_rounds=None, enable_categorical=False,\n",
       "             eval_metric='rmse', feature_types=None, gamma=0.001,\n",
       "             grow_policy=None, importance_type=None,\n",
       "             interaction_constraints=None, learning_rate=0.13, max_bin=None,\n",
       "             max_cat_threshold=None, max_cat_to_onehot=None,\n",
       "             max_delta_step=None, max_depth=4, max_leaves=200,\n",
       "             min_child_weight=3, missing=nan, monotone_constraints=None,\n",
       "             multi_strategy=None, n_estimators=2000, n_jobs=None, nthread=2,\n",
       "             num_parallel_tree=None, ...)"
      ]
     },
     "execution_count": 6,
     "metadata": {},
     "output_type": "execute_result"
    }
   ],
   "source": [
    "from xgboost import XGBRegressor\n",
    "fit1 = XGBRegressor(booster='gbtree',\n",
    "                    eval_metric='rmse',\n",
    "                    gamma = 0.001,\n",
    "                    min_child_weight= 3,\n",
    "                    max_depth= 4,\n",
    "                    subsample= 0.9,\n",
    "                    max_leaves=200,\n",
    "                    colsample_bytree=1,\n",
    "                    tree_method= 'exact',\n",
    "                    learning_rate=0.13,\n",
    "                    n_estimators=2000,\n",
    "                    nthread=2,\n",
    "                    scale_pos_weight=1,\n",
    "                    seed=300)\n",
    "fit1.fit(X_train,\n",
    "          y_train)"
   ]
  },
  {
   "cell_type": "code",
   "execution_count": 7,
   "id": "3893fbb0-c620-41c6-b91e-646492375aa1",
   "metadata": {},
   "outputs": [
    {
     "name": "stdout",
     "output_type": "stream",
     "text": [
      "Train ERROR =  0.016624150548786708\n",
      "R1 =  0.9997225477039993\n",
      "MAE_1 =  0.011826814217037115\n"
     ]
    }
   ],
   "source": [
    "pred1_train = fit1.predict(X_train)\n",
    "from sklearn.metrics import mean_squared_error\n",
    "mse_1 = mean_squared_error(pred1_train,y_train)\n",
    "rmse_1 = np.sqrt(mse_1)\n",
    "print (\"Train ERROR = \", rmse_1)\n",
    "from sklearn.metrics import r2_score\n",
    "R_1 = r2_score(pred1_train,y_train)\n",
    "print (\"R1 = \", R_1)\n",
    "from sklearn.metrics import mean_absolute_error\n",
    "mae_1 = mean_absolute_error(pred1_train,y_train)\n",
    "print (\"MAE_1 = \", mae_1)"
   ]
  },
  {
   "cell_type": "code",
   "execution_count": 8,
   "id": "d85fb522-d303-4971-b0d9-06fd745d825e",
   "metadata": {},
   "outputs": [
    {
     "name": "stdout",
     "output_type": "stream",
     "text": [
      "Test ERROR =  0.37216731722782115\n",
      "R2 =  0.8176652745333887\n",
      "MAE_2 =  0.23531941956008848\n"
     ]
    }
   ],
   "source": [
    "pred1_test = fit1.predict(X_test)\n",
    "mse_2 = mean_squared_error(pred1_test,y_test)\n",
    "rmse_2 = np.sqrt(mse_2)\n",
    "print (\"Test ERROR = \", rmse_2)\n",
    "pred1_test = fit1.predict(X_test)\n",
    "R_2 = r2_score(pred1_test,y_test)\n",
    "print (\"R2 = \", R_2)\n",
    "mae_2 = mean_absolute_error(pred1_test,y_test)\n",
    "print (\"MAE_2 = \", mae_2)"
   ]
  },
  {
   "cell_type": "code",
   "execution_count": 9,
   "id": "cff2dfbc-b76c-46d0-83fa-796afab0ab67",
   "metadata": {},
   "outputs": [
    {
     "name": "stdout",
     "output_type": "stream",
     "text": [
      "Test ERROR =  0.3647613439282332\n",
      "R3 =  0.8267605880468255\n",
      "MAE_3 =  0.21809850144781567\n"
     ]
    }
   ],
   "source": [
    "pred1_total = fit1.predict(x_total)\n",
    "mse_3 = mean_squared_error(pred1_total,y_total)\n",
    "rmse_3 = np.sqrt(mse_3)\n",
    "print (\"Test ERROR = \", rmse_3)\n",
    "pred1_test = fit1.predict(X_test)\n",
    "R_3 = r2_score(pred1_total,y_total)\n",
    "print (\"R3 = \", R_3)\n",
    "mae_3 = mean_absolute_error(pred1_total,y_total)\n",
    "print (\"MAE_3 = \", mae_3)"
   ]
  }
 ],
 "metadata": {
  "kernelspec": {
   "display_name": "Python 3 (ipykernel)",
   "language": "python",
   "name": "python3"
  },
  "language_info": {
   "codemirror_mode": {
    "name": "ipython",
    "version": 3
   },
   "file_extension": ".py",
   "mimetype": "text/x-python",
   "name": "python",
   "nbconvert_exporter": "python",
   "pygments_lexer": "ipython3",
   "version": "3.11.7"
  }
 },
 "nbformat": 4,
 "nbformat_minor": 5
}
